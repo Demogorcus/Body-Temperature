{
 "cells": [
  {
   "cell_type": "markdown",
   "metadata": {},
   "source": [
    "# What is the True Normal Human Body Temperature? \n",
    "\n",
    "#### Background\n",
    "\n",
    "The mean normal body temperature was held to be 37$^{\\circ}$C or 98.6$^{\\circ}$F for more than 120 years since it was first conceptualized and reported by Carl Wunderlich in a famous 1868 book. But, is this value statistically correct?"
   ]
  },
  {
   "cell_type": "markdown",
   "metadata": {},
   "source": [
    "<h3>Exercises</h3>\n",
    "\n",
    "<p>In this exercise, you will analyze a dataset of human body temperatures and employ the concepts of hypothesis testing, confidence intervals, and statistical significance.</p>\n",
    "\n",
    "<p>Answer the following questions <b>in this notebook below and submit to your Github account</b>.</p> \n",
    "\n",
    "<ol>\n",
    "<li>  Is the distribution of body temperatures normal? \n",
    "    <ul>\n",
    "    <li> Although this is not a requirement for the Central Limit Theorem to hold (read the introduction on Wikipedia's page about the CLT carefully: https://en.wikipedia.org/wiki/Central_limit_theorem), it gives us some peace of mind that the population may also be normally distributed if we assume that this sample is representative of the population.\n",
    "    <li> Think about the way you're going to check for the normality of the distribution. Graphical methods are usually used first, but there are also other ways: https://en.wikipedia.org/wiki/Normality_test\n",
    "    </ul>\n",
    "<li>  Is the sample size large? Are the observations independent?\n",
    "    <ul>\n",
    "    <li> Remember that this is a condition for the Central Limit Theorem, and hence the statistical tests we are using, to apply.\n",
    "    </ul>\n",
    "<li>  Is the true population mean really 98.6 degrees F?\n",
    "    <ul>\n",
    "    <li> First, try a bootstrap hypothesis test.\n",
    "    <li> Now, let's try frequentist statistical testing. Would you use a one-sample or two-sample test? Why?\n",
    "    <li> In this situation, is it appropriate to use the $t$ or $z$ statistic? \n",
    "    <li> Now try using the other test. How is the result be different? Why?\n",
    "    </ul>\n",
    "<li>  Draw a small sample of size 10 from the data and repeat both frequentist tests. \n",
    "    <ul>\n",
    "    <li> Which one is the correct one to use? \n",
    "    <li> What do you notice? What does this tell you about the difference in application of the $t$ and $z$ statistic?\n",
    "    </ul>\n",
    "<li>  At what temperature should we consider someone's temperature to be \"abnormal\"?\n",
    "    <ul>\n",
    "    <li> As in the previous example, try calculating everything using the boostrap approach, as well as the frequentist approach.\n",
    "    <li> Start by computing the margin of error and confidence interval. When calculating the confidence interval, keep in mind that you should use the appropriate formula for one draw, and not N draws.\n",
    "    </ul>\n",
    "<li>  Is there a significant difference between males and females in normal temperature?\n",
    "    <ul>\n",
    "    <li> What testing approach did you use and why?\n",
    "    <li> Write a story with your conclusion in the context of the original problem.\n",
    "    </ul>\n",
    "</ol>\n",
    "\n",
    "You can include written notes in notebook cells using Markdown: \n",
    "   - In the control panel at the top, choose Cell > Cell Type > Markdown\n",
    "   - Markdown syntax: http://nestacms.com/docs/creating-content/markdown-cheat-sheet\n",
    "\n",
    "#### Resources\n",
    "\n",
    "+ Information and data sources: http://www.amstat.org/publications/jse/datasets/normtemp.txt, http://www.amstat.org/publications/jse/jse_data_archive.htm\n",
    "+ Markdown syntax: http://nestacms.com/docs/creating-content/markdown-cheat-sheet\n",
    "\n",
    "****"
   ]
  },
  {
   "cell_type": "code",
   "execution_count": 3,
   "metadata": {
    "collapsed": true
   },
   "outputs": [],
   "source": [
    "import pandas as pd\n",
    "\n",
    "df = pd.read_csv('data/human_body_temperature.csv')"
   ]
  },
  {
   "cell_type": "code",
   "execution_count": 4,
   "metadata": {},
   "outputs": [
    {
     "data": {
      "image/png": "[encoded data removed]",
      "text/plain": [
       "<matplotlib.figure.Figure at 0x1974b64b7f0>"
      ]
     },
     "metadata": {},
     "output_type": "display_data"
    }
   ],
   "source": [
    "#1. Is the distribution of body temperatures normal?\n",
    "import matplotlib.pyplot as plt\n",
    "plt.figure()\n",
    "df['temperature'].plot(kind = 'hist', bins = 20)\n",
    "plt.show()\n",
    "# Answer: As can be seen from the plot, the distribution of body temperatures resembles a normal distribution, \n",
    "#  but is not fully normal due to irregularities in dataset, such as the dip at 97.5 and 98.5 F."
   ]
  },
  {
   "cell_type": "code",
   "execution_count": 5,
   "metadata": {},
   "outputs": [
    {
     "data": {
      "text/plain": [
       "130"
      ]
     },
     "execution_count": 5,
     "metadata": {},
     "output_type": "execute_result"
    }
   ],
   "source": [
    "#2. Is the sample size large? Are the observations independent?\n",
    "len(df.index)\n",
    "#Answer: With a sample size of 130, this dataset is large (greater than 30)\n",
    "#  Since there is no correlation between observations, the observations are independent of one another."
   ]
  },
  {
   "cell_type": "code",
   "execution_count": 9,
   "metadata": {
    "collapsed": true
   },
   "outputs": [],
   "source": [
    "#3. Bootstrap Hypothesis Testing: Is the true true population mean really 98.6 degrees F?\n",
    "def bootstrap_replicate_1d(data, func):\n",
    "    return func(np.random.choice(data, size=len(data)))\n",
    "def draw_bs_reps(data, func, size=1):\n",
    "    # Initialize array of replicates: bs_replicates\n",
    "    bs_replicates = np.empty(size)\n",
    "\n",
    "    # Generate replicates\n",
    "    for i in range(size):\n",
    "        bs_replicates[i] = bootstrap_replicate_1d(data, func)\n",
    "\n",
    "    return bs_replicates\n",
    "def diff_from_H0(data, H0=98.6):\n",
    "    return np.mean(data) - H0"
   ]
  },
  {
   "cell_type": "code",
   "execution_count": 68,
   "metadata": {},
   "outputs": [
    {
     "name": "stdout",
     "output_type": "stream",
     "text": [
      "Bootstrap Hypothesis Testing: Test Statistic -0.35076923076921673 P-value 0.0\n",
      "Frequentist Statistical Testing: z:  5.47592520208  P-value:  4.35231517493e-08\n",
      "Frequentist Statistical Testing: t:  5.47592520208  P-value:  2.18874646241e-07\n"
     ]
    }
   ],
   "source": [
    "import scipy.stats as st\n",
    "import numpy as np\n",
    "\n",
    "#a. Bootstrap hypothesis test\n",
    "# Null hypothesis: \n",
    "H0 = 98.6\n",
    "# Alternative Hypothesis: Ha <> 98.6\n",
    "df_shift = df['temperature'] - np.mean(df['temperature']) + H0\n",
    "diff_obs = diff_from_H0(df['temperature'])\n",
    "bs_replicates = draw_bs_reps(df_shift, diff_from_H0, len(df.index))\n",
    "p_value = np.sum(bs_replicates <= diff_obs)/len(df.index)\n",
    "print ('Bootstrap Hypothesis Testing: Test Statistic', diff_obs,'P-value',p_value)\n",
    "\n",
    "#b. Frequentist statistical testing\n",
    "H0 = 98.6\n",
    "n = len(df.index)\n",
    "avg = np.mean(df['temperature'])\n",
    "sigma = np.std(df['temperature'])\n",
    "svar = np.var(df['temperature'])\n",
    "# z = (x – μ) / (σ / √n)\n",
    "zstat = (H0 - avg) / (sigma/np.sqrt(n))\n",
    "pvalz = 2 * (1-st.norm.cdf(zstat))\n",
    "print('Frequentist Statistical Testing: z: ',zstat, ' P-value: ', pvalz)\n",
    "#p-value is much smaller than 0.05; null hypothesis must be rejected; Population mean extremely unlikely to be 98.6 F. \n",
    "# The one-sample test was suitable for this dataset because we are not comparing two groups\n",
    "\n",
    "#c. t-test vs z-test\n",
    "# For large datasets, it is better to use the z-statstic, since the sample mean is approximately normally distributed\n",
    "\n",
    "#d. The other test\n",
    "tstat = (H0-avg)/np.sqrt(svar/n)\n",
    "pvalt = st.t.sf(np.abs(tstat), n-1)*2\n",
    "print('Frequentist Statistical Testing: t: ',tstat, ' P-value: ', pvalt)"
   ]
  },
  {
   "cell_type": "code",
   "execution_count": 77,
   "metadata": {},
   "outputs": [
    {
     "name": "stdout",
     "output_type": "stream",
     "text": [
      "Frequentist Statistical Testing: z:  1.51874839205  P-value:  0.128825840683\n",
      "Frequentist Statistical Testing: t:  1.51874839205 P-value:  0.163142136002\n"
     ]
    }
   ],
   "source": [
    "#Reduce Sample size to 10. It is appropriate to use the t-statistic in this case, since sample size < 30\n",
    "H0 = 98.6\n",
    "n = 10\n",
    "avg = np.mean(df['temperature'])\n",
    "sigma = np.std(df['temperature'])\n",
    "# z = (x – μ) / (σ / √n)\n",
    "zstat = (H0 - avg) / (sigma/np.sqrt(n))\n",
    "pvalz = 2 * (1-st.norm.cdf(zstat))\n",
    "# t = \n",
    "tstat = (H0-avg)/np.sqrt(svar/n)\n",
    "pvalt = st.t.sf(np.abs(tstat), n-1)*2\n",
    "print('Frequentist Statistical Testing: z: ',zstat, ' P-value: ', pvalz)\n",
    "print('Frequentist Statistical Testing: t: ',tstat, 'P-value: ',pvalt)\n",
    "# With the smaller sample size, it appears the null hypothesis is now more likely to be acceptable and cannot be rejected."
   ]
  },
  {
   "cell_type": "code",
   "execution_count": 55,
   "metadata": {},
   "outputs": [
    {
     "name": "stdout",
     "output_type": "stream",
     "text": [
      "Margin of error:  0.254455727245\n",
      "Min normal temperature:  98.1220029056 Max normal temperature:  98.3764586329\n"
     ]
    }
   ],
   "source": [
    "#5. What is Abnormal Body Temperature?\n",
    "import scipy as sp\n",
    "# Compute Confidence Interval and Margin of Error\n",
    "def confidence_interval(data, confidence = 0.95):\n",
    "    a = 1.0 * np.array(data)\n",
    "    n = len(a)\n",
    "    m = np.mean(a)\n",
    "    se = sp.stats.sem(a)\n",
    "    h = se * sp.stats.t.ppf((1+confidence)/2, n-1)\n",
    "    print('Margin of error: ', 2 * h)\n",
    "    return m, m-h, m+h\n",
    "mtemp, mintemp, maxtemp = confidence_interval(df['temperature'])\n",
    "print('Min normal temperature: ', mintemp, 'Max normal temperature: ', maxtemp)\n",
    "#According to the sample size, abnormal body temperature is below 98.12 and above 98.38"
   ]
  },
  {
   "cell_type": "code",
   "execution_count": 76,
   "metadata": {},
   "outputs": [
    {
     "name": "stdout",
     "output_type": "stream",
     "text": [
      "z-statistic:  2.30322028919 p-value:  0.0212664518301\n"
     ]
    }
   ],
   "source": [
    "#6. Is there a significant difference in normal temperature between Males and Females?\n",
    "# Approach: Separate the dataset into male and female datasets. Use Independent 2-sample z-test to determine\n",
    "# if means are significantly different\n",
    "#Null Hypothesis: Hm = Hf--The mean temperature of males are equal to the mean temperature of females\n",
    "#Alternative Hypothesis: Hm != Hf-- The mean temperature of males are not equal to the mean temperature of females\n",
    "#Separate Males dataset from Females dataset\n",
    "male_df = df[df['gender']=='M']\n",
    "female_df = df[df['gender']=='F']\n",
    "#The approach is to compute the test statistic z. Then, compute the p-value.\n",
    "#Calculate mean, standard deviation, and Standard Error of both datasets\n",
    "n_male = len(male_df.index)\n",
    "n_female = len(female_df.index)\n",
    "xb_male = np.mean(male_df['temperature'])\n",
    "xb_female = np.mean(female_df['temperature'])\n",
    "sig_male = np.std(male_df['temperature'])\n",
    "sig_female = np.std(female_df['temperature'])\n",
    "SE_male = sig_male / np.sqrt(n_male)\n",
    "SE_female = sig_female / np.sqrt(n_female)\n",
    "#Compute the standard error difference between the two datasets\n",
    "SE_diff = np.sqrt(SE_male**2 + SE_female **2)\n",
    "#Commence z-test\n",
    "#Null Hypothesis: Hm = Hf--The mean temperature of males are equal to the mean temperature of females\n",
    "#Alternative Hypothesis: Hm != Hf-- The mean temperature of males are not equal to the mean temperature of females\n",
    "#z-statistic\n",
    "z_mf = (xb_female - xb_male)/SE_diff\n",
    "#p-value\n",
    "p_mf = 2 * (1-st.norm.cdf(z_mf))\n",
    "print('z-statistic: ', z_mf, 'p-value: ', p_mf)\n",
    "# With a p-value of 0.02, which is less than 0.05, we can reject the null hypothesis.\n",
    "# The normal body temperature is likely to be different between males and females."
   ]
  },
  {
   "cell_type": "code",
   "execution_count": null,
   "metadata": {
    "collapsed": true
   },
   "outputs": [],
   "source": []
  }
 ],
 "metadata": {
  "kernelspec": {
   "display_name": "Python 3",
   "language": "python",
   "name": "python3"
  },
  "language_info": {
   "codemirror_mode": {
    "name": "ipython",
    "version": 3
   },
   "file_extension": ".py",
   "mimetype": "text/x-python",
   "name": "python",
   "nbconvert_exporter": "python",
   "pygments_lexer": "ipython3",
   "version": "3.6.1"
  }
 },
 "nbformat": 4,
 "nbformat_minor": 1
}
